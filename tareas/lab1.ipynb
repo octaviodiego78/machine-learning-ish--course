{
 "cells": [
  {
   "cell_type": "markdown",
   "id": "6b9130c0",
   "metadata": {},
   "source": [
    "### Optical Recognition Handwritten Digits ###"
   ]
  },
  {
   "cell_type": "code",
   "execution_count": null,
   "id": "1df5ea17",
   "metadata": {},
   "outputs": [],
   "source": [
    "import sklearn\n",
    "import numpy as np\n",
    "import pandas as pd\n",
    "import matplotlib.pyplot as plt\n",
    "import seaborn as sns\n",
    "from sklearn.datasets import fetch_openml"
   ]
  },
  {
   "cell_type": "code",
   "execution_count": 15,
   "id": "117148e5",
   "metadata": {},
   "outputs": [],
   "source": [
    "nist = fetch_openml('optdigits', version=1, as_frame=False, parser='auto')\n",
    "x = nist.data\n",
    "y = nist.target"
   ]
  },
  {
   "cell_type": "code",
   "execution_count": 17,
   "id": "501750cf",
   "metadata": {},
   "outputs": [
    {
     "data": {
      "text/plain": [
       "((5620, 64), (5620,))"
      ]
     },
     "execution_count": 17,
     "metadata": {},
     "output_type": "execute_result"
    }
   ],
   "source": [
    "x.shape, y.shape"
   ]
  },
  {
   "cell_type": "code",
   "execution_count": null,
   "id": "175e1d68",
   "metadata": {},
   "outputs": [
    {
     "ename": "IndexError",
     "evalue": "arrays used as indices must be of integer (or boolean) type",
     "output_type": "error",
     "traceback": [
      "\u001b[0;31m---------------------------------------------------------------------------\u001b[0m",
      "\u001b[0;31mIndexError\u001b[0m                                Traceback (most recent call last)",
      "Cell \u001b[0;32mIn[60], line 1\u001b[0m\n\u001b[0;32m----> 1\u001b[0m np\u001b[38;5;241m.\u001b[39meye(\u001b[38;5;241m10\u001b[39m)[y]\n",
      "\u001b[0;31mIndexError\u001b[0m: arrays used as indices must be of integer (or boolean) type"
     ]
    }
   ],
   "source": [
    "np.zeros()"
   ]
  },
  {
   "cell_type": "code",
   "execution_count": null,
   "id": "a3b789ad",
   "metadata": {},
   "outputs": [
    {
     "data": {
      "text/plain": [
       "array([[1., 0., 0., ..., 0., 0., 0.],\n",
       "       [1., 0., 0., ..., 0., 0., 0.],\n",
       "       [0., 0., 0., ..., 1., 0., 0.],\n",
       "       ...,\n",
       "       [0., 0., 0., ..., 0., 1., 0.],\n",
       "       [0., 0., 0., ..., 0., 0., 1.],\n",
       "       [0., 0., 0., ..., 0., 1., 0.]])"
      ]
     },
     "execution_count": 72,
     "metadata": {},
     "output_type": "execute_result"
    }
   ],
   "source": [
    "import numpy as np\n",
    "\n",
    "\n",
    "\n"
   ]
  },
  {
   "cell_type": "code",
   "execution_count": 94,
   "id": "5c996f08",
   "metadata": {},
   "outputs": [],
   "source": [
    "\n",
    "class ManualPerceptron:\n",
    "    \"\"\"\n",
    "    Perceptron implementation that replicates sklearn's Perceptron\n",
    "    \"\"\"\n",
    "    \n",
    "    def __init__(self, X, y, learning_rate=1.0, epochs=50):\n",
    "        self.X = X\n",
    "\n",
    "        #instead of y being a scalar, it is a one-hot encoded vector\n",
    "        self.y = np.eye(10)[y.astype(int)]\n",
    "        self.input_size = X.shape[1]\n",
    "        self.output_size = self.y.shape[1]\n",
    "        self.learning_rate = learning_rate\n",
    "        self.epochs = epochs\n",
    "        self.weights, self.bias = self._initialize_weights()\n",
    "        \n",
    "    def _step_function(self, x):\n",
    "        return np.where(x >= 0, 1, 0)\n",
    "    \n",
    "    def _initialize_weights(self):\n",
    "        weights = np.zeros((self.output_size, self.input_size))\n",
    "        bias = np.zeros(self.output_size)\n",
    "        return weights, bias\n",
    "\n",
    "\n",
    "    \n",
    "    def fit(self):\n",
    "     \n",
    "        for epoch in range(self.epochs):\n",
    "            print(f\"Epoch {epoch}\")\n",
    "            errors = 0\n",
    "            z = np.dot(self.weights.T,self.X) + self.bias\n",
    "            y_pred = self._step_function(z)\n",
    "            errors = np.sum(y_pred != self.y)\n",
    "\n",
    "            weight_gradients = np.dot((self.y - y_pred).T, self.X)  # (n_classes, n_features)\n",
    "            bias_gradients = np.sum(self.y - y_pred, axis=0)  # (n_classes,)\n",
    "        \n",
    "            self.weights += self.learning_rate * weight_gradients\n",
    "            self.bias += self.learning_rate * bias_gradients\n",
    "\n",
    "            if errors == 0:\n",
    "                break\n",
    "\n",
    "        return None\n",
    "    \n",
    "    def predict(self, X):\n",
    "        \"\"\"Make predictions\"\"\"\n",
    "        z = np.dot(X, self.weights.T) + self.bias\n",
    "        y_pred = self._step_function(z)\n",
    "        return y_pred\n",
    "    \n",
    "    def score(self, X, y):\n",
    "        \"\"\"Calculate accuracy score\"\"\"\n",
    "        predictions = self.predict(X)\n",
    "        return accuracy_score(y, predictions)"
   ]
  },
  {
   "cell_type": "code",
   "execution_count": 95,
   "id": "ebe2d25a",
   "metadata": {},
   "outputs": [],
   "source": [
    "perceptron = ManualPerceptron(X, y)"
   ]
  },
  {
   "cell_type": "code",
   "execution_count": 96,
   "id": "fdfd6507",
   "metadata": {},
   "outputs": [
    {
     "name": "stdout",
     "output_type": "stream",
     "text": [
      "Epoch 0\n"
     ]
    },
    {
     "ename": "ValueError",
     "evalue": "shapes (64,10) and (5620,64) not aligned: 10 (dim 1) != 5620 (dim 0)",
     "output_type": "error",
     "traceback": [
      "\u001b[0;31m---------------------------------------------------------------------------\u001b[0m",
      "\u001b[0;31mValueError\u001b[0m                                Traceback (most recent call last)",
      "Cell \u001b[0;32mIn[96], line 1\u001b[0m\n\u001b[0;32m----> 1\u001b[0m perceptron\u001b[38;5;241m.\u001b[39mfit()\n",
      "Cell \u001b[0;32mIn[94], line 32\u001b[0m, in \u001b[0;36mManualPerceptron.fit\u001b[0;34m(self)\u001b[0m\n\u001b[1;32m     30\u001b[0m \u001b[38;5;28mprint\u001b[39m(\u001b[38;5;124mf\u001b[39m\u001b[38;5;124m\"\u001b[39m\u001b[38;5;124mEpoch \u001b[39m\u001b[38;5;132;01m{\u001b[39;00mepoch\u001b[38;5;132;01m}\u001b[39;00m\u001b[38;5;124m\"\u001b[39m)\n\u001b[1;32m     31\u001b[0m errors \u001b[38;5;241m=\u001b[39m \u001b[38;5;241m0\u001b[39m\n\u001b[0;32m---> 32\u001b[0m z \u001b[38;5;241m=\u001b[39m np\u001b[38;5;241m.\u001b[39mdot(\u001b[38;5;28mself\u001b[39m\u001b[38;5;241m.\u001b[39mweights\u001b[38;5;241m.\u001b[39mT,\u001b[38;5;28mself\u001b[39m\u001b[38;5;241m.\u001b[39mX) \u001b[38;5;241m+\u001b[39m \u001b[38;5;28mself\u001b[39m\u001b[38;5;241m.\u001b[39mbias\n\u001b[1;32m     33\u001b[0m y_pred \u001b[38;5;241m=\u001b[39m \u001b[38;5;28mself\u001b[39m\u001b[38;5;241m.\u001b[39m_step_function(z)\n\u001b[1;32m     34\u001b[0m errors \u001b[38;5;241m=\u001b[39m np\u001b[38;5;241m.\u001b[39msum(y_pred \u001b[38;5;241m!=\u001b[39m \u001b[38;5;28mself\u001b[39m\u001b[38;5;241m.\u001b[39my)\n",
      "File \u001b[0;32m<__array_function__ internals>:180\u001b[0m, in \u001b[0;36mdot\u001b[0;34m(*args, **kwargs)\u001b[0m\n",
      "\u001b[0;31mValueError\u001b[0m: shapes (64,10) and (5620,64) not aligned: 10 (dim 1) != 5620 (dim 0)"
     ]
    }
   ],
   "source": [
    "perceptron.fit()"
   ]
  },
  {
   "cell_type": "code",
   "execution_count": null,
   "id": "a4c8007f",
   "metadata": {},
   "outputs": [],
   "source": []
  }
 ],
 "metadata": {
  "kernelspec": {
   "display_name": "base",
   "language": "python",
   "name": "python3"
  },
  "language_info": {
   "codemirror_mode": {
    "name": "ipython",
    "version": 3
   },
   "file_extension": ".py",
   "mimetype": "text/x-python",
   "name": "python",
   "nbconvert_exporter": "python",
   "pygments_lexer": "ipython3",
   "version": "3.11.4"
  }
 },
 "nbformat": 4,
 "nbformat_minor": 5
}
